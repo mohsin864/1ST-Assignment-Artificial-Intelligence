{
 "cells": [
  {
   "cell_type": "code",
   "execution_count": 8,
   "metadata": {},
   "outputs": [
    {
     "name": "stdout",
     "output_type": "stream",
     "text": [
      "NAME: Muhammad Mohsin Khan\n",
      "Age:  27years\n",
      "Cnic; 42101-5241282-7\n",
      "Qualification: MCS\n",
      "City: Karachi\n",
      "Address: House no ##### Arsalan Homes Sec 1-A-4 North Karachi\n",
      "Email: Muhammadmohsinkhan864@gmail.com\n"
     ]
    }
   ],
   "source": [
    "print('NAME: Muhammad Mohsin Khan')\n",
    "AGE='27years'\n",
    "CNIC='42101-5241282-7'\n",
    "print('Age: ',AGE)\n",
    "print('Cnic;',CNIC)\n",
    "print('Qualification: MCS')\n",
    "print('City: Karachi')\n",
    "print('Address: House no ##### Arsalan Homes Sec 1-A-4 North Karachi')\n",
    "print('Email: Muhammadmohsinkhan864@gmail.com')"
   ]
  },
  {
   "cell_type": "code",
   "execution_count": null,
   "metadata": {},
   "outputs": [],
   "source": []
  }
 ],
 "metadata": {
  "kernelspec": {
   "display_name": "Python 3",
   "language": "python",
   "name": "python3"
  },
  "language_info": {
   "codemirror_mode": {
    "name": "ipython",
    "version": 3
   },
   "file_extension": ".py",
   "mimetype": "text/x-python",
   "name": "python",
   "nbconvert_exporter": "python",
   "pygments_lexer": "ipython3",
   "version": "3.7.3"
  }
 },
 "nbformat": 4,
 "nbformat_minor": 2
}
